{
 "cells": [
  {
   "cell_type": "code",
   "execution_count": null,
   "metadata": {
    "scrolled": false
   },
   "outputs": [],
   "source": [
    "#!pip install tifffile"
   ]
  },
  {
   "cell_type": "code",
   "execution_count": 7,
   "metadata": {},
   "outputs": [],
   "source": [
    "import tifffile as tif\n",
    "#from PIL import Image\n",
    "import numpy as np\n",
    "import pandas as pd\n",
    "import sys\n",
    "import os\n",
    "import csv"
   ]
  },
  {
   "cell_type": "code",
   "execution_count": 2,
   "metadata": {},
   "outputs": [],
   "source": [
    "#Useful function\n",
    "def createFileList(myDir, format='HarvestedAreaHectares.tif'):\n",
    "    fileList = []\n",
    "    nameList = []\n",
    "    print(myDir)\n",
    "    for root, dirs, files in os.walk(myDir, topdown=False):\n",
    "        for name in files:\n",
    "            if name.endswith(format):\n",
    "                fullName = os.path.join(root, name)\n",
    "                fileList.append(fullName)\n",
    "                nameList.append(name)\n",
    "    return fileList,nameList"
   ]
  },
  {
   "cell_type": "code",
   "execution_count": 3,
   "metadata": {},
   "outputs": [
    {
     "name": "stdout",
     "output_type": "stream",
     "text": [
      "C:\\Research\\Post-Doc Research\\HarvestedAreaYield\\HarvestedAreaYield175Crops_Geotiff\\HarvestedAreaYield175Crops_Geotiff\n"
     ]
    }
   ],
   "source": [
    "tifFile,tifName = createFileList('C:\\Research\\Post-Doc Research\\HarvestedAreaYield\\HarvestedAreaYield175Crops_Geotiff\\HarvestedAreaYield175Crops_Geotiff')"
   ]
  },
  {
   "cell_type": "code",
   "execution_count": 11,
   "metadata": {},
   "outputs": [],
   "source": [
    "#xx = pd.DataFrame(tifName)\n",
    "#xx.to_csv('CropNames.csv',index = False)"
   ]
  },
  {
   "cell_type": "code",
   "execution_count": 12,
   "metadata": {},
   "outputs": [],
   "source": [
    "nf = len(tifFile)"
   ]
  },
  {
   "cell_type": "code",
   "execution_count": 13,
   "metadata": {
    "scrolled": true
   },
   "outputs": [],
   "source": [
    "nf = 175"
   ]
  },
  {
   "cell_type": "code",
   "execution_count": 14,
   "metadata": {},
   "outputs": [],
   "source": [
    "crpary = np.zeros([360,720,nf])"
   ]
  },
  {
   "cell_type": "code",
   "execution_count": 15,
   "metadata": {},
   "outputs": [
    {
     "name": "stdout",
     "output_type": "stream",
     "text": [
      "0 C:\\Research\\Post-Doc Research\\HarvestedAreaYield\\HarvestedAreaYield175Crops_Geotiff\\HarvestedAreaYield175Crops_Geotiff\\abaca_HarvAreaYield_Geotiff\\abaca_HarvestedAreaHectares.tif\n",
      "1 C:\\Research\\Post-Doc Research\\HarvestedAreaYield\\HarvestedAreaYield175Crops_Geotiff\\HarvestedAreaYield175Crops_Geotiff\\agave_HarvAreaYield_Geotiff\\agave_HarvestedAreaHectares.tif\n",
      "2 C:\\Research\\Post-Doc Research\\HarvestedAreaYield\\HarvestedAreaYield175Crops_Geotiff\\HarvestedAreaYield175Crops_Geotiff\\alfalfa_HarvAreaYield_Geotiff\\alfalfa_HarvestedAreaHectares.tif\n",
      "3 C:\\Research\\Post-Doc Research\\HarvestedAreaYield\\HarvestedAreaYield175Crops_Geotiff\\HarvestedAreaYield175Crops_Geotiff\\almond_HarvAreaYield_Geotiff\\almond_HarvestedAreaHectares.tif\n",
      "4 C:\\Research\\Post-Doc Research\\HarvestedAreaYield\\HarvestedAreaYield175Crops_Geotiff\\HarvestedAreaYield175Crops_Geotiff\\aniseetc_HarvAreaYield_Geotiff\\aniseetc_HarvestedAreaHectares.tif\n",
      "5 C:\\Research\\Post-Doc Research\\HarvestedAreaYield\\HarvestedAreaYield175Crops_Geotiff\\HarvestedAreaYield175Crops_Geotiff\\apple_HarvAreaYield_Geotiff\\apple_HarvestedAreaHectares.tif\n",
      "6 C:\\Research\\Post-Doc Research\\HarvestedAreaYield\\HarvestedAreaYield175Crops_Geotiff\\HarvestedAreaYield175Crops_Geotiff\\apricot_HarvAreaYield_Geotiff\\apricot_HarvestedAreaHectares.tif\n",
      "7 C:\\Research\\Post-Doc Research\\HarvestedAreaYield\\HarvestedAreaYield175Crops_Geotiff\\HarvestedAreaYield175Crops_Geotiff\\areca_HarvAreaYield_Geotiff\\areca_HarvestedAreaHectares.tif\n",
      "8 C:\\Research\\Post-Doc Research\\HarvestedAreaYield\\HarvestedAreaYield175Crops_Geotiff\\HarvestedAreaYield175Crops_Geotiff\\artichoke_HarvAreaYield_Geotiff\\artichoke_HarvestedAreaHectares.tif\n",
      "9 C:\\Research\\Post-Doc Research\\HarvestedAreaYield\\HarvestedAreaYield175Crops_Geotiff\\HarvestedAreaYield175Crops_Geotiff\\asparagus_HarvAreaYield_Geotiff\\asparagus_HarvestedAreaHectares.tif\n",
      "10 C:\\Research\\Post-Doc Research\\HarvestedAreaYield\\HarvestedAreaYield175Crops_Geotiff\\HarvestedAreaYield175Crops_Geotiff\\avocado_HarvAreaYield_Geotiff\\avocado_HarvestedAreaHectares.tif\n",
      "11 C:\\Research\\Post-Doc Research\\HarvestedAreaYield\\HarvestedAreaYield175Crops_Geotiff\\HarvestedAreaYield175Crops_Geotiff\\bambara_HarvAreaYield_Geotiff\\bambara_HarvestedAreaHectares.tif\n",
      "12 C:\\Research\\Post-Doc Research\\HarvestedAreaYield\\HarvestedAreaYield175Crops_Geotiff\\HarvestedAreaYield175Crops_Geotiff\\banana_HarvAreaYield_Geotiff\\banana_HarvestedAreaHectares.tif\n",
      "13 C:\\Research\\Post-Doc Research\\HarvestedAreaYield\\HarvestedAreaYield175Crops_Geotiff\\HarvestedAreaYield175Crops_Geotiff\\barley_HarvAreaYield_Geotiff\\barley_HarvestedAreaHectares.tif\n",
      "14 C:\\Research\\Post-Doc Research\\HarvestedAreaYield\\HarvestedAreaYield175Crops_Geotiff\\HarvestedAreaYield175Crops_Geotiff\\bean_HarvAreaYield_Geotiff\\bean_HarvestedAreaHectares.tif\n",
      "15 C:\\Research\\Post-Doc Research\\HarvestedAreaYield\\HarvestedAreaYield175Crops_Geotiff\\HarvestedAreaYield175Crops_Geotiff\\beetfor_HarvAreaYield_Geotiff\\beetfor_HarvestedAreaHectares.tif\n",
      "16 C:\\Research\\Post-Doc Research\\HarvestedAreaYield\\HarvestedAreaYield175Crops_Geotiff\\HarvestedAreaYield175Crops_Geotiff\\berrynes_HarvAreaYield_Geotiff\\berrynes_HarvestedAreaHectares.tif\n",
      "17 C:\\Research\\Post-Doc Research\\HarvestedAreaYield\\HarvestedAreaYield175Crops_Geotiff\\HarvestedAreaYield175Crops_Geotiff\\blueberry_HarvAreaYield_Geotiff\\blueberry_HarvestedAreaHectares.tif\n",
      "18 C:\\Research\\Post-Doc Research\\HarvestedAreaYield\\HarvestedAreaYield175Crops_Geotiff\\HarvestedAreaYield175Crops_Geotiff\\brazil_HarvAreaYield_Geotiff\\brazil_HarvestedAreaHectares.tif\n",
      "19 C:\\Research\\Post-Doc Research\\HarvestedAreaYield\\HarvestedAreaYield175Crops_Geotiff\\HarvestedAreaYield175Crops_Geotiff\\broadbean_HarvAreaYield_Geotiff\\broadbean_HarvestedAreaHectares.tif\n",
      "20 C:\\Research\\Post-Doc Research\\HarvestedAreaYield\\HarvestedAreaYield175Crops_Geotiff\\HarvestedAreaYield175Crops_Geotiff\\buckwheat_HarvAreaYield_Geotiff\\buckwheat_HarvestedAreaHectares.tif\n",
      "21 C:\\Research\\Post-Doc Research\\HarvestedAreaYield\\HarvestedAreaYield175Crops_Geotiff\\HarvestedAreaYield175Crops_Geotiff\\cabbagefor_HarvAreaYield_Geotiff\\cabbagefor_HarvestedAreaHectares.tif\n",
      "22 C:\\Research\\Post-Doc Research\\HarvestedAreaYield\\HarvestedAreaYield175Crops_Geotiff\\HarvestedAreaYield175Crops_Geotiff\\cabbage_HarvAreaYield_Geotiff\\cabbage_HarvestedAreaHectares.tif\n",
      "23 C:\\Research\\Post-Doc Research\\HarvestedAreaYield\\HarvestedAreaYield175Crops_Geotiff\\HarvestedAreaYield175Crops_Geotiff\\canaryseed_HarvAreaYield_Geotiff\\canaryseed_HarvestedAreaHectares.tif\n",
      "24 C:\\Research\\Post-Doc Research\\HarvestedAreaYield\\HarvestedAreaYield175Crops_Geotiff\\HarvestedAreaYield175Crops_Geotiff\\carob_HarvAreaYield_Geotiff\\carob_HarvestedAreaHectares.tif\n",
      "25 C:\\Research\\Post-Doc Research\\HarvestedAreaYield\\HarvestedAreaYield175Crops_Geotiff\\HarvestedAreaYield175Crops_Geotiff\\carrotfor_HarvAreaYield_Geotiff\\carrotfor_HarvestedAreaHectares.tif\n",
      "26 C:\\Research\\Post-Doc Research\\HarvestedAreaYield\\HarvestedAreaYield175Crops_Geotiff\\HarvestedAreaYield175Crops_Geotiff\\carrot_HarvAreaYield_Geotiff\\carrot_HarvestedAreaHectares.tif\n",
      "27 C:\\Research\\Post-Doc Research\\HarvestedAreaYield\\HarvestedAreaYield175Crops_Geotiff\\HarvestedAreaYield175Crops_Geotiff\\cashewapple_HarvAreaYield_Geotiff\\cashewapple_HarvestedAreaHectares.tif\n",
      "28 C:\\Research\\Post-Doc Research\\HarvestedAreaYield\\HarvestedAreaYield175Crops_Geotiff\\HarvestedAreaYield175Crops_Geotiff\\cashew_HarvAreaYield_Geotiff\\cashew_HarvestedAreaHectares.tif\n",
      "29 C:\\Research\\Post-Doc Research\\HarvestedAreaYield\\HarvestedAreaYield175Crops_Geotiff\\HarvestedAreaYield175Crops_Geotiff\\cassava_HarvAreaYield_Geotiff\\cassava_HarvestedAreaHectares.tif\n",
      "30 C:\\Research\\Post-Doc Research\\HarvestedAreaYield\\HarvestedAreaYield175Crops_Geotiff\\HarvestedAreaYield175Crops_Geotiff\\castor_HarvAreaYield_Geotiff\\castor_HarvestedAreaHectares.tif\n",
      "31 C:\\Research\\Post-Doc Research\\HarvestedAreaYield\\HarvestedAreaYield175Crops_Geotiff\\HarvestedAreaYield175Crops_Geotiff\\cauliflower_HarvAreaYield_Geotiff\\cauliflower_HarvestedAreaHectares.tif\n",
      "32 C:\\Research\\Post-Doc Research\\HarvestedAreaYield\\HarvestedAreaYield175Crops_Geotiff\\HarvestedAreaYield175Crops_Geotiff\\cerealnes_HarvAreaYield_Geotiff\\cerealnes_HarvestedAreaHectares.tif\n",
      "33 C:\\Research\\Post-Doc Research\\HarvestedAreaYield\\HarvestedAreaYield175Crops_Geotiff\\HarvestedAreaYield175Crops_Geotiff\\cherry_HarvAreaYield_Geotiff\\cherry_HarvestedAreaHectares.tif\n",
      "34 C:\\Research\\Post-Doc Research\\HarvestedAreaYield\\HarvestedAreaYield175Crops_Geotiff\\HarvestedAreaYield175Crops_Geotiff\\chestnut_HarvAreaYield_Geotiff\\chestnut_HarvestedAreaHectares.tif\n",
      "35 C:\\Research\\Post-Doc Research\\HarvestedAreaYield\\HarvestedAreaYield175Crops_Geotiff\\HarvestedAreaYield175Crops_Geotiff\\chickpea_HarvAreaYield_Geotiff\\chickpea_HarvestedAreaHectares.tif\n",
      "36 C:\\Research\\Post-Doc Research\\HarvestedAreaYield\\HarvestedAreaYield175Crops_Geotiff\\HarvestedAreaYield175Crops_Geotiff\\chicory_HarvAreaYield_Geotiff\\chicory_HarvestedAreaHectares.tif\n",
      "37 C:\\Research\\Post-Doc Research\\HarvestedAreaYield\\HarvestedAreaYield175Crops_Geotiff\\HarvestedAreaYield175Crops_Geotiff\\chilleetc_HarvAreaYield_Geotiff\\chilleetc_HarvestedAreaHectares.tif\n",
      "38 C:\\Research\\Post-Doc Research\\HarvestedAreaYield\\HarvestedAreaYield175Crops_Geotiff\\HarvestedAreaYield175Crops_Geotiff\\cinnamon_HarvAreaYield_Geotiff\\cinnamon_HarvestedAreaHectares.tif\n",
      "39 C:\\Research\\Post-Doc Research\\HarvestedAreaYield\\HarvestedAreaYield175Crops_Geotiff\\HarvestedAreaYield175Crops_Geotiff\\citrusnes_HarvAreaYield_Geotiff\\citrusnes_HarvestedAreaHectares.tif\n",
      "40 C:\\Research\\Post-Doc Research\\HarvestedAreaYield\\HarvestedAreaYield175Crops_Geotiff\\HarvestedAreaYield175Crops_Geotiff\\clover_HarvAreaYield_Geotiff\\clover_HarvestedAreaHectares.tif\n",
      "41 C:\\Research\\Post-Doc Research\\HarvestedAreaYield\\HarvestedAreaYield175Crops_Geotiff\\HarvestedAreaYield175Crops_Geotiff\\clove_HarvAreaYield_Geotiff\\clove_HarvestedAreaHectares.tif\n",
      "42 C:\\Research\\Post-Doc Research\\HarvestedAreaYield\\HarvestedAreaYield175Crops_Geotiff\\HarvestedAreaYield175Crops_Geotiff\\cocoa_HarvAreaYield_Geotiff\\cocoa_HarvestedAreaHectares.tif\n",
      "43 C:\\Research\\Post-Doc Research\\HarvestedAreaYield\\HarvestedAreaYield175Crops_Geotiff\\HarvestedAreaYield175Crops_Geotiff\\coconut_HarvAreaYield_Geotiff\\coconut_HarvestedAreaHectares.tif\n"
     ]
    },
    {
     "name": "stdout",
     "output_type": "stream",
     "text": [
      "44 C:\\Research\\Post-Doc Research\\HarvestedAreaYield\\HarvestedAreaYield175Crops_Geotiff\\HarvestedAreaYield175Crops_Geotiff\\coffee_HarvAreaYield_Geotiff\\coffee_HarvestedAreaHectares.tif\n",
      "45 C:\\Research\\Post-Doc Research\\HarvestedAreaYield\\HarvestedAreaYield175Crops_Geotiff\\HarvestedAreaYield175Crops_Geotiff\\coir_HarvAreaYield_Geotiff\\coir_HarvestedAreaHectares.tif\n",
      "46 C:\\Research\\Post-Doc Research\\HarvestedAreaYield\\HarvestedAreaYield175Crops_Geotiff\\HarvestedAreaYield175Crops_Geotiff\\cotton_HarvAreaYield_Geotiff\\cotton_HarvestedAreaHectares.tif\n",
      "47 C:\\Research\\Post-Doc Research\\HarvestedAreaYield\\HarvestedAreaYield175Crops_Geotiff\\HarvestedAreaYield175Crops_Geotiff\\cowpea_HarvAreaYield_Geotiff\\cowpea_HarvestedAreaHectares.tif\n",
      "48 C:\\Research\\Post-Doc Research\\HarvestedAreaYield\\HarvestedAreaYield175Crops_Geotiff\\HarvestedAreaYield175Crops_Geotiff\\cranberry_HarvAreaYield_Geotiff\\cranberry_HarvestedAreaHectares.tif\n",
      "49 C:\\Research\\Post-Doc Research\\HarvestedAreaYield\\HarvestedAreaYield175Crops_Geotiff\\HarvestedAreaYield175Crops_Geotiff\\cucumberetc_HarvAreaYield_Geotiff\\cucumberetc_HarvestedAreaHectares.tif\n",
      "50 C:\\Research\\Post-Doc Research\\HarvestedAreaYield\\HarvestedAreaYield175Crops_Geotiff\\HarvestedAreaYield175Crops_Geotiff\\currant_HarvAreaYield_Geotiff\\currant_HarvestedAreaHectares.tif\n",
      "51 C:\\Research\\Post-Doc Research\\HarvestedAreaYield\\HarvestedAreaYield175Crops_Geotiff\\HarvestedAreaYield175Crops_Geotiff\\date_HarvAreaYield_Geotiff\\date_HarvestedAreaHectares.tif\n",
      "52 C:\\Research\\Post-Doc Research\\HarvestedAreaYield\\HarvestedAreaYield175Crops_Geotiff\\HarvestedAreaYield175Crops_Geotiff\\eggplant_HarvAreaYield_Geotiff\\eggplant_HarvestedAreaHectares.tif\n",
      "53 C:\\Research\\Post-Doc Research\\HarvestedAreaYield\\HarvestedAreaYield175Crops_Geotiff\\HarvestedAreaYield175Crops_Geotiff\\fibrenes_HarvAreaYield_Geotiff\\fibrenes_HarvestedAreaHectares.tif\n",
      "54 C:\\Research\\Post-Doc Research\\HarvestedAreaYield\\HarvestedAreaYield175Crops_Geotiff\\HarvestedAreaYield175Crops_Geotiff\\fig_HarvAreaYield_Geotiff\\fig_HarvestedAreaHectares.tif\n",
      "55 C:\\Research\\Post-Doc Research\\HarvestedAreaYield\\HarvestedAreaYield175Crops_Geotiff\\HarvestedAreaYield175Crops_Geotiff\\flax_HarvAreaYield_Geotiff\\flax_HarvestedAreaHectares.tif\n",
      "56 C:\\Research\\Post-Doc Research\\HarvestedAreaYield\\HarvestedAreaYield175Crops_Geotiff\\HarvestedAreaYield175Crops_Geotiff\\fonio_HarvAreaYield_Geotiff\\fonio_HarvestedAreaHectares.tif\n",
      "57 C:\\Research\\Post-Doc Research\\HarvestedAreaYield\\HarvestedAreaYield175Crops_Geotiff\\HarvestedAreaYield175Crops_Geotiff\\fornes_HarvAreaYield_Geotiff\\fornes_HarvestedAreaHectares.tif\n",
      "58 C:\\Research\\Post-Doc Research\\HarvestedAreaYield\\HarvestedAreaYield175Crops_Geotiff\\HarvestedAreaYield175Crops_Geotiff\\fruitnes_HarvAreaYield_Geotiff\\fruitnes_HarvestedAreaHectares.tif\n",
      "59 C:\\Research\\Post-Doc Research\\HarvestedAreaYield\\HarvestedAreaYield175Crops_Geotiff\\HarvestedAreaYield175Crops_Geotiff\\garlic_HarvAreaYield_Geotiff\\garlic_HarvestedAreaHectares.tif\n",
      "60 C:\\Research\\Post-Doc Research\\HarvestedAreaYield\\HarvestedAreaYield175Crops_Geotiff\\HarvestedAreaYield175Crops_Geotiff\\ginger_HarvAreaYield_Geotiff\\ginger_HarvestedAreaHectares.tif\n",
      "61 C:\\Research\\Post-Doc Research\\HarvestedAreaYield\\HarvestedAreaYield175Crops_Geotiff\\HarvestedAreaYield175Crops_Geotiff\\gooseberry_HarvAreaYield_Geotiff\\gooseberry_HarvestedAreaHectares.tif\n",
      "62 C:\\Research\\Post-Doc Research\\HarvestedAreaYield\\HarvestedAreaYield175Crops_Geotiff\\HarvestedAreaYield175Crops_Geotiff\\grapefruitetc_HarvAreaYield_Geotiff\\grapefruitetc_HarvestedAreaHectares.tif\n",
      "63 C:\\Research\\Post-Doc Research\\HarvestedAreaYield\\HarvestedAreaYield175Crops_Geotiff\\HarvestedAreaYield175Crops_Geotiff\\grape_HarvAreaYield_Geotiff\\grape_HarvestedAreaHectares.tif\n",
      "64 C:\\Research\\Post-Doc Research\\HarvestedAreaYield\\HarvestedAreaYield175Crops_Geotiff\\HarvestedAreaYield175Crops_Geotiff\\grassnes_HarvAreaYield_Geotiff\\grassnes_HarvestedAreaHectares.tif\n",
      "65 C:\\Research\\Post-Doc Research\\HarvestedAreaYield\\HarvestedAreaYield175Crops_Geotiff\\HarvestedAreaYield175Crops_Geotiff\\greenbean_HarvAreaYield_Geotiff\\greenbean_HarvestedAreaHectares.tif\n",
      "66 C:\\Research\\Post-Doc Research\\HarvestedAreaYield\\HarvestedAreaYield175Crops_Geotiff\\HarvestedAreaYield175Crops_Geotiff\\greenbroadbean_HarvAreaYield_Geotiff\\greenbroadbean_HarvestedAreaHectares.tif\n",
      "67 C:\\Research\\Post-Doc Research\\HarvestedAreaYield\\HarvestedAreaYield175Crops_Geotiff\\HarvestedAreaYield175Crops_Geotiff\\greencorn_HarvAreaYield_Geotiff\\greencorn_HarvestedAreaHectares.tif\n",
      "68 C:\\Research\\Post-Doc Research\\HarvestedAreaYield\\HarvestedAreaYield175Crops_Geotiff\\HarvestedAreaYield175Crops_Geotiff\\greenonion_HarvAreaYield_Geotiff\\greenonion_HarvestedAreaHectares.tif\n",
      "69 C:\\Research\\Post-Doc Research\\HarvestedAreaYield\\HarvestedAreaYield175Crops_Geotiff\\HarvestedAreaYield175Crops_Geotiff\\greenpea_HarvAreaYield_Geotiff\\greenpea_HarvestedAreaHectares.tif\n",
      "70 C:\\Research\\Post-Doc Research\\HarvestedAreaYield\\HarvestedAreaYield175Crops_Geotiff\\HarvestedAreaYield175Crops_Geotiff\\groundnut_HarvAreaYield_Geotiff\\groundnut_HarvestedAreaHectares.tif\n",
      "71 C:\\Research\\Post-Doc Research\\HarvestedAreaYield\\HarvestedAreaYield175Crops_Geotiff\\HarvestedAreaYield175Crops_Geotiff\\gums_HarvAreaYield_Geotiff\\gums_HarvestedAreaHectares.tif\n",
      "72 C:\\Research\\Post-Doc Research\\HarvestedAreaYield\\HarvestedAreaYield175Crops_Geotiff\\HarvestedAreaYield175Crops_Geotiff\\hazelnut_HarvAreaYield_Geotiff\\hazelnut_HarvestedAreaHectares.tif\n",
      "73 C:\\Research\\Post-Doc Research\\HarvestedAreaYield\\HarvestedAreaYield175Crops_Geotiff\\HarvestedAreaYield175Crops_Geotiff\\hempseed_HarvAreaYield_Geotiff\\hempseed_HarvestedAreaHectares.tif\n",
      "74 C:\\Research\\Post-Doc Research\\HarvestedAreaYield\\HarvestedAreaYield175Crops_Geotiff\\HarvestedAreaYield175Crops_Geotiff\\hemp_HarvAreaYield_Geotiff\\hemp_HarvestedAreaHectares.tif\n",
      "75 C:\\Research\\Post-Doc Research\\HarvestedAreaYield\\HarvestedAreaYield175Crops_Geotiff\\HarvestedAreaYield175Crops_Geotiff\\hop_HarvAreaYield_Geotiff\\hop_HarvestedAreaHectares.tif\n",
      "76 C:\\Research\\Post-Doc Research\\HarvestedAreaYield\\HarvestedAreaYield175Crops_Geotiff\\HarvestedAreaYield175Crops_Geotiff\\jutelikefiber_HarvAreaYield_Geotiff\\jutelikefiber_HarvestedAreaHectares.tif\n",
      "77 C:\\Research\\Post-Doc Research\\HarvestedAreaYield\\HarvestedAreaYield175Crops_Geotiff\\HarvestedAreaYield175Crops_Geotiff\\jute_HarvAreaYield_Geotiff\\jute_HarvestedAreaHectares.tif\n",
      "78 C:\\Research\\Post-Doc Research\\HarvestedAreaYield\\HarvestedAreaYield175Crops_Geotiff\\HarvestedAreaYield175Crops_Geotiff\\kapokfiber_HarvAreaYield_Geotiff\\kapokfiber_HarvestedAreaHectares.tif\n",
      "79 C:\\Research\\Post-Doc Research\\HarvestedAreaYield\\HarvestedAreaYield175Crops_Geotiff\\HarvestedAreaYield175Crops_Geotiff\\kapokseed_HarvAreaYield_Geotiff\\kapokseed_HarvestedAreaHectares.tif\n",
      "80 C:\\Research\\Post-Doc Research\\HarvestedAreaYield\\HarvestedAreaYield175Crops_Geotiff\\HarvestedAreaYield175Crops_Geotiff\\karite_HarvAreaYield_Geotiff\\karite_HarvestedAreaHectares.tif\n",
      "81 C:\\Research\\Post-Doc Research\\HarvestedAreaYield\\HarvestedAreaYield175Crops_Geotiff\\HarvestedAreaYield175Crops_Geotiff\\kiwi_HarvAreaYield_Geotiff\\kiwi_HarvestedAreaHectares.tif\n",
      "82 C:\\Research\\Post-Doc Research\\HarvestedAreaYield\\HarvestedAreaYield175Crops_Geotiff\\HarvestedAreaYield175Crops_Geotiff\\kolanut_HarvAreaYield_Geotiff\\kolanut_HarvestedAreaHectares.tif\n",
      "83 C:\\Research\\Post-Doc Research\\HarvestedAreaYield\\HarvestedAreaYield175Crops_Geotiff\\HarvestedAreaYield175Crops_Geotiff\\legumenes_HarvAreaYield_Geotiff\\legumenes_HarvestedAreaHectares.tif\n",
      "84 C:\\Research\\Post-Doc Research\\HarvestedAreaYield\\HarvestedAreaYield175Crops_Geotiff\\HarvestedAreaYield175Crops_Geotiff\\lemonlime_HarvAreaYield_Geotiff\\lemonlime_HarvestedAreaHectares.tif\n",
      "85 C:\\Research\\Post-Doc Research\\HarvestedAreaYield\\HarvestedAreaYield175Crops_Geotiff\\HarvestedAreaYield175Crops_Geotiff\\lentil_HarvAreaYield_Geotiff\\lentil_HarvestedAreaHectares.tif\n",
      "86 C:\\Research\\Post-Doc Research\\HarvestedAreaYield\\HarvestedAreaYield175Crops_Geotiff\\HarvestedAreaYield175Crops_Geotiff\\lettuce_HarvAreaYield_Geotiff\\lettuce_HarvestedAreaHectares.tif\n",
      "87 C:\\Research\\Post-Doc Research\\HarvestedAreaYield\\HarvestedAreaYield175Crops_Geotiff\\HarvestedAreaYield175Crops_Geotiff\\linseed_HarvAreaYield_Geotiff\\linseed_HarvestedAreaHectares.tif\n"
     ]
    },
    {
     "name": "stdout",
     "output_type": "stream",
     "text": [
      "88 C:\\Research\\Post-Doc Research\\HarvestedAreaYield\\HarvestedAreaYield175Crops_Geotiff\\HarvestedAreaYield175Crops_Geotiff\\lupin_HarvAreaYield_Geotiff\\lupin_HarvestedAreaHectares.tif\n",
      "89 C:\\Research\\Post-Doc Research\\HarvestedAreaYield\\HarvestedAreaYield175Crops_Geotiff\\HarvestedAreaYield175Crops_Geotiff\\maizefor_HarvAreaYield_Geotiff\\maizefor_HarvestedAreaHectares.tif\n",
      "90 C:\\Research\\Post-Doc Research\\HarvestedAreaYield\\HarvestedAreaYield175Crops_Geotiff\\HarvestedAreaYield175Crops_Geotiff\\maize_HarvAreaYield_Geotiff\\maize_HarvestedAreaHectares.tif\n",
      "91 C:\\Research\\Post-Doc Research\\HarvestedAreaYield\\HarvestedAreaYield175Crops_Geotiff\\HarvestedAreaYield175Crops_Geotiff\\mango_HarvAreaYield_Geotiff\\mango_HarvestedAreaHectares.tif\n",
      "92 C:\\Research\\Post-Doc Research\\HarvestedAreaYield\\HarvestedAreaYield175Crops_Geotiff\\HarvestedAreaYield175Crops_Geotiff\\mate_HarvAreaYield_Geotiff\\mate_HarvestedAreaHectares.tif\n",
      "93 C:\\Research\\Post-Doc Research\\HarvestedAreaYield\\HarvestedAreaYield175Crops_Geotiff\\HarvestedAreaYield175Crops_Geotiff\\melonetc_HarvAreaYield_Geotiff\\melonetc_HarvestedAreaHectares.tif\n",
      "94 C:\\Research\\Post-Doc Research\\HarvestedAreaYield\\HarvestedAreaYield175Crops_Geotiff\\HarvestedAreaYield175Crops_Geotiff\\melonseed_HarvAreaYield_Geotiff\\melonseed_HarvestedAreaHectares.tif\n",
      "95 C:\\Research\\Post-Doc Research\\HarvestedAreaYield\\HarvestedAreaYield175Crops_Geotiff\\HarvestedAreaYield175Crops_Geotiff\\millet_HarvAreaYield_Geotiff\\millet_HarvestedAreaHectares.tif\n",
      "96 C:\\Research\\Post-Doc Research\\HarvestedAreaYield\\HarvestedAreaYield175Crops_Geotiff\\HarvestedAreaYield175Crops_Geotiff\\mixedgrain_HarvAreaYield_Geotiff\\mixedgrain_HarvestedAreaHectares.tif\n",
      "97 C:\\Research\\Post-Doc Research\\HarvestedAreaYield\\HarvestedAreaYield175Crops_Geotiff\\HarvestedAreaYield175Crops_Geotiff\\mixedgrass_HarvAreaYield_Geotiff\\mixedgrass_HarvestedAreaHectares.tif\n",
      "98 C:\\Research\\Post-Doc Research\\HarvestedAreaYield\\HarvestedAreaYield175Crops_Geotiff\\HarvestedAreaYield175Crops_Geotiff\\mushroom_HarvAreaYield_Geotiff\\mushroom_HarvestedAreaHectares.tif\n",
      "99 C:\\Research\\Post-Doc Research\\HarvestedAreaYield\\HarvestedAreaYield175Crops_Geotiff\\HarvestedAreaYield175Crops_Geotiff\\mustard_HarvAreaYield_Geotiff\\mustard_HarvestedAreaHectares.tif\n",
      "100 C:\\Research\\Post-Doc Research\\HarvestedAreaYield\\HarvestedAreaYield175Crops_Geotiff\\HarvestedAreaYield175Crops_Geotiff\\nutmeg_HarvAreaYield_Geotiff\\nutmeg_HarvestedAreaHectares.tif\n",
      "101 C:\\Research\\Post-Doc Research\\HarvestedAreaYield\\HarvestedAreaYield175Crops_Geotiff\\HarvestedAreaYield175Crops_Geotiff\\nutnes_HarvAreaYield_Geotiff\\nutnes_HarvestedAreaHectares.tif\n",
      "102 C:\\Research\\Post-Doc Research\\HarvestedAreaYield\\HarvestedAreaYield175Crops_Geotiff\\HarvestedAreaYield175Crops_Geotiff\\oats_HarvAreaYield_Geotiff\\oats_HarvestedAreaHectares.tif\n",
      "103 C:\\Research\\Post-Doc Research\\HarvestedAreaYield\\HarvestedAreaYield175Crops_Geotiff\\HarvestedAreaYield175Crops_Geotiff\\oilpalm_HarvAreaYield_Geotiff\\oilpalm_HarvestedAreaHectares.tif\n",
      "104 C:\\Research\\Post-Doc Research\\HarvestedAreaYield\\HarvestedAreaYield175Crops_Geotiff\\HarvestedAreaYield175Crops_Geotiff\\oilseedfor_HarvAreaYield_Geotiff\\oilseedfor_HarvestedAreaHectares.tif\n",
      "105 C:\\Research\\Post-Doc Research\\HarvestedAreaYield\\HarvestedAreaYield175Crops_Geotiff\\HarvestedAreaYield175Crops_Geotiff\\oilseednes_HarvAreaYield_Geotiff\\oilseednes_HarvestedAreaHectares.tif\n",
      "106 C:\\Research\\Post-Doc Research\\HarvestedAreaYield\\HarvestedAreaYield175Crops_Geotiff\\HarvestedAreaYield175Crops_Geotiff\\okra_HarvAreaYield_Geotiff\\okra_HarvestedAreaHectares.tif\n",
      "107 C:\\Research\\Post-Doc Research\\HarvestedAreaYield\\HarvestedAreaYield175Crops_Geotiff\\HarvestedAreaYield175Crops_Geotiff\\olive_HarvAreaYield_Geotiff\\olive_HarvestedAreaHectares.tif\n",
      "108 C:\\Research\\Post-Doc Research\\HarvestedAreaYield\\HarvestedAreaYield175Crops_Geotiff\\HarvestedAreaYield175Crops_Geotiff\\onion_HarvAreaYield_Geotiff\\onion_HarvestedAreaHectares.tif\n",
      "109 C:\\Research\\Post-Doc Research\\HarvestedAreaYield\\HarvestedAreaYield175Crops_Geotiff\\HarvestedAreaYield175Crops_Geotiff\\orange_HarvAreaYield_Geotiff\\orange_HarvestedAreaHectares.tif\n",
      "110 C:\\Research\\Post-Doc Research\\HarvestedAreaYield\\HarvestedAreaYield175Crops_Geotiff\\HarvestedAreaYield175Crops_Geotiff\\papaya_HarvAreaYield_Geotiff\\papaya_HarvestedAreaHectares.tif\n",
      "111 C:\\Research\\Post-Doc Research\\HarvestedAreaYield\\HarvestedAreaYield175Crops_Geotiff\\HarvestedAreaYield175Crops_Geotiff\\peachetc_HarvAreaYield_Geotiff\\peachetc_HarvestedAreaHectares.tif\n",
      "112 C:\\Research\\Post-Doc Research\\HarvestedAreaYield\\HarvestedAreaYield175Crops_Geotiff\\HarvestedAreaYield175Crops_Geotiff\\pear_HarvAreaYield_Geotiff\\pear_HarvestedAreaHectares.tif\n",
      "113 C:\\Research\\Post-Doc Research\\HarvestedAreaYield\\HarvestedAreaYield175Crops_Geotiff\\HarvestedAreaYield175Crops_Geotiff\\pea_HarvAreaYield_Geotiff\\pea_HarvestedAreaHectares.tif\n",
      "114 C:\\Research\\Post-Doc Research\\HarvestedAreaYield\\HarvestedAreaYield175Crops_Geotiff\\HarvestedAreaYield175Crops_Geotiff\\peppermint_HarvAreaYield_Geotiff\\peppermint_HarvestedAreaHectares.tif\n",
      "115 C:\\Research\\Post-Doc Research\\HarvestedAreaYield\\HarvestedAreaYield175Crops_Geotiff\\HarvestedAreaYield175Crops_Geotiff\\pepper_HarvAreaYield_Geotiff\\pepper_HarvestedAreaHectares.tif\n",
      "116 C:\\Research\\Post-Doc Research\\HarvestedAreaYield\\HarvestedAreaYield175Crops_Geotiff\\HarvestedAreaYield175Crops_Geotiff\\persimmon_HarvAreaYield_Geotiff\\persimmon_HarvestedAreaHectares.tif\n",
      "117 C:\\Research\\Post-Doc Research\\HarvestedAreaYield\\HarvestedAreaYield175Crops_Geotiff\\HarvestedAreaYield175Crops_Geotiff\\pigeonpea_HarvAreaYield_Geotiff\\pigeonpea_HarvestedAreaHectares.tif\n",
      "118 C:\\Research\\Post-Doc Research\\HarvestedAreaYield\\HarvestedAreaYield175Crops_Geotiff\\HarvestedAreaYield175Crops_Geotiff\\pimento_HarvAreaYield_Geotiff\\pimento_HarvestedAreaHectares.tif\n",
      "119 C:\\Research\\Post-Doc Research\\HarvestedAreaYield\\HarvestedAreaYield175Crops_Geotiff\\HarvestedAreaYield175Crops_Geotiff\\pineapple_HarvAreaYield_Geotiff\\pineapple_HarvestedAreaHectares.tif\n",
      "120 C:\\Research\\Post-Doc Research\\HarvestedAreaYield\\HarvestedAreaYield175Crops_Geotiff\\HarvestedAreaYield175Crops_Geotiff\\pistachio_HarvAreaYield_Geotiff\\pistachio_HarvestedAreaHectares.tif\n",
      "121 C:\\Research\\Post-Doc Research\\HarvestedAreaYield\\HarvestedAreaYield175Crops_Geotiff\\HarvestedAreaYield175Crops_Geotiff\\plantain_HarvAreaYield_Geotiff\\plantain_HarvestedAreaHectares.tif\n",
      "122 C:\\Research\\Post-Doc Research\\HarvestedAreaYield\\HarvestedAreaYield175Crops_Geotiff\\HarvestedAreaYield175Crops_Geotiff\\plum_HarvAreaYield_Geotiff\\plum_HarvestedAreaHectares.tif\n",
      "123 C:\\Research\\Post-Doc Research\\HarvestedAreaYield\\HarvestedAreaYield175Crops_Geotiff\\HarvestedAreaYield175Crops_Geotiff\\popcorn_HarvAreaYield_Geotiff\\popcorn_HarvestedAreaHectares.tif\n",
      "124 C:\\Research\\Post-Doc Research\\HarvestedAreaYield\\HarvestedAreaYield175Crops_Geotiff\\HarvestedAreaYield175Crops_Geotiff\\poppy_HarvAreaYield_Geotiff\\poppy_HarvestedAreaHectares.tif\n",
      "125 C:\\Research\\Post-Doc Research\\HarvestedAreaYield\\HarvestedAreaYield175Crops_Geotiff\\HarvestedAreaYield175Crops_Geotiff\\potato_HarvAreaYield_Geotiff\\potato_HarvestedAreaHectares.tif\n",
      "126 C:\\Research\\Post-Doc Research\\HarvestedAreaYield\\HarvestedAreaYield175Crops_Geotiff\\HarvestedAreaYield175Crops_Geotiff\\pulsenes_HarvAreaYield_Geotiff\\pulsenes_HarvestedAreaHectares.tif\n",
      "127 C:\\Research\\Post-Doc Research\\HarvestedAreaYield\\HarvestedAreaYield175Crops_Geotiff\\HarvestedAreaYield175Crops_Geotiff\\pumpkinetc_HarvAreaYield_Geotiff\\pumpkinetc_HarvestedAreaHectares.tif\n",
      "128 C:\\Research\\Post-Doc Research\\HarvestedAreaYield\\HarvestedAreaYield175Crops_Geotiff\\HarvestedAreaYield175Crops_Geotiff\\pyrethrum_HarvAreaYield_Geotiff\\pyrethrum_HarvestedAreaHectares.tif\n",
      "129 C:\\Research\\Post-Doc Research\\HarvestedAreaYield\\HarvestedAreaYield175Crops_Geotiff\\HarvestedAreaYield175Crops_Geotiff\\quince_HarvAreaYield_Geotiff\\quince_HarvestedAreaHectares.tif\n",
      "130 C:\\Research\\Post-Doc Research\\HarvestedAreaYield\\HarvestedAreaYield175Crops_Geotiff\\HarvestedAreaYield175Crops_Geotiff\\quinoa_HarvAreaYield_Geotiff\\quinoa_HarvestedAreaHectares.tif\n",
      "131 C:\\Research\\Post-Doc Research\\HarvestedAreaYield\\HarvestedAreaYield175Crops_Geotiff\\HarvestedAreaYield175Crops_Geotiff\\ramie_HarvAreaYield_Geotiff\\ramie_HarvestedAreaHectares.tif\n"
     ]
    },
    {
     "name": "stdout",
     "output_type": "stream",
     "text": [
      "132 C:\\Research\\Post-Doc Research\\HarvestedAreaYield\\HarvestedAreaYield175Crops_Geotiff\\HarvestedAreaYield175Crops_Geotiff\\rapeseed_HarvAreaYield_Geotiff\\rapeseed_HarvestedAreaHectares.tif\n",
      "133 C:\\Research\\Post-Doc Research\\HarvestedAreaYield\\HarvestedAreaYield175Crops_Geotiff\\HarvestedAreaYield175Crops_Geotiff\\rasberry_HarvAreaYield_Geotiff\\rasberry_HarvestedAreaHectares.tif\n",
      "134 C:\\Research\\Post-Doc Research\\HarvestedAreaYield\\HarvestedAreaYield175Crops_Geotiff\\HarvestedAreaYield175Crops_Geotiff\\rice_HarvAreaYield_Geotiff\\rice_HarvestedAreaHectares.tif\n",
      "135 C:\\Research\\Post-Doc Research\\HarvestedAreaYield\\HarvestedAreaYield175Crops_Geotiff\\HarvestedAreaYield175Crops_Geotiff\\rootnes_HarvAreaYield_Geotiff\\rootnes_HarvestedAreaHectares.tif\n",
      "136 C:\\Research\\Post-Doc Research\\HarvestedAreaYield\\HarvestedAreaYield175Crops_Geotiff\\HarvestedAreaYield175Crops_Geotiff\\rubber_HarvAreaYield_Geotiff\\rubber_HarvestedAreaHectares.tif\n",
      "137 C:\\Research\\Post-Doc Research\\HarvestedAreaYield\\HarvestedAreaYield175Crops_Geotiff\\HarvestedAreaYield175Crops_Geotiff\\ryefor_HarvAreaYield_Geotiff\\ryefor_HarvestedAreaHectares.tif\n",
      "138 C:\\Research\\Post-Doc Research\\HarvestedAreaYield\\HarvestedAreaYield175Crops_Geotiff\\HarvestedAreaYield175Crops_Geotiff\\rye_HarvAreaYield_Geotiff\\rye_HarvestedAreaHectares.tif\n",
      "139 C:\\Research\\Post-Doc Research\\HarvestedAreaYield\\HarvestedAreaYield175Crops_Geotiff\\HarvestedAreaYield175Crops_Geotiff\\safflower_HarvAreaYield_Geotiff\\safflower_HarvestedAreaHectares.tif\n",
      "140 C:\\Research\\Post-Doc Research\\HarvestedAreaYield\\HarvestedAreaYield175Crops_Geotiff\\HarvestedAreaYield175Crops_Geotiff\\sesame_HarvAreaYield_Geotiff\\sesame_HarvestedAreaHectares.tif\n",
      "141 C:\\Research\\Post-Doc Research\\HarvestedAreaYield\\HarvestedAreaYield175Crops_Geotiff\\HarvestedAreaYield175Crops_Geotiff\\sisal_HarvAreaYield_Geotiff\\sisal_HarvestedAreaHectares.tif\n",
      "142 C:\\Research\\Post-Doc Research\\HarvestedAreaYield\\HarvestedAreaYield175Crops_Geotiff\\HarvestedAreaYield175Crops_Geotiff\\sorghumfor_HarvAreaYield_Geotiff\\sorghumfor_HarvestedAreaHectares.tif\n",
      "143 C:\\Research\\Post-Doc Research\\HarvestedAreaYield\\HarvestedAreaYield175Crops_Geotiff\\HarvestedAreaYield175Crops_Geotiff\\sorghum_HarvAreaYield_Geotiff\\sorghum_HarvestedAreaHectares.tif\n",
      "144 C:\\Research\\Post-Doc Research\\HarvestedAreaYield\\HarvestedAreaYield175Crops_Geotiff\\HarvestedAreaYield175Crops_Geotiff\\sourcherry_HarvAreaYield_Geotiff\\sourcherry_HarvestedAreaHectares.tif\n",
      "145 C:\\Research\\Post-Doc Research\\HarvestedAreaYield\\HarvestedAreaYield175Crops_Geotiff\\HarvestedAreaYield175Crops_Geotiff\\soybean_HarvAreaYield_Geotiff\\soybean_HarvestedAreaHectares.tif\n",
      "146 C:\\Research\\Post-Doc Research\\HarvestedAreaYield\\HarvestedAreaYield175Crops_Geotiff\\HarvestedAreaYield175Crops_Geotiff\\spicenes_HarvAreaYield_Geotiff\\spicenes_HarvestedAreaHectares.tif\n",
      "147 C:\\Research\\Post-Doc Research\\HarvestedAreaYield\\HarvestedAreaYield175Crops_Geotiff\\HarvestedAreaYield175Crops_Geotiff\\spinach_HarvAreaYield_Geotiff\\spinach_HarvestedAreaHectares.tif\n",
      "148 C:\\Research\\Post-Doc Research\\HarvestedAreaYield\\HarvestedAreaYield175Crops_Geotiff\\HarvestedAreaYield175Crops_Geotiff\\stonefruitnes_HarvAreaYield_Geotiff\\stonefruitnes_HarvestedAreaHectares.tif\n",
      "149 C:\\Research\\Post-Doc Research\\HarvestedAreaYield\\HarvestedAreaYield175Crops_Geotiff\\HarvestedAreaYield175Crops_Geotiff\\strawberry_HarvAreaYield_Geotiff\\strawberry_HarvestedAreaHectares.tif\n",
      "150 C:\\Research\\Post-Doc Research\\HarvestedAreaYield\\HarvestedAreaYield175Crops_Geotiff\\HarvestedAreaYield175Crops_Geotiff\\stringbean_HarvAreaYield_Geotiff\\stringbean_HarvestedAreaHectares.tif\n",
      "151 C:\\Research\\Post-Doc Research\\HarvestedAreaYield\\HarvestedAreaYield175Crops_Geotiff\\HarvestedAreaYield175Crops_Geotiff\\sugarbeet_HarvAreaYield_Geotiff\\sugarbeet_HarvestedAreaHectares.tif\n",
      "152 C:\\Research\\Post-Doc Research\\HarvestedAreaYield\\HarvestedAreaYield175Crops_Geotiff\\HarvestedAreaYield175Crops_Geotiff\\sugarcane_HarvAreaYield_Geotiff\\sugarcane_HarvestedAreaHectares.tif\n",
      "153 C:\\Research\\Post-Doc Research\\HarvestedAreaYield\\HarvestedAreaYield175Crops_Geotiff\\HarvestedAreaYield175Crops_Geotiff\\sugarnes_HarvAreaYield_Geotiff\\sugarnes_HarvestedAreaHectares.tif\n",
      "154 C:\\Research\\Post-Doc Research\\HarvestedAreaYield\\HarvestedAreaYield175Crops_Geotiff\\HarvestedAreaYield175Crops_Geotiff\\sunflower_HarvAreaYield_Geotiff\\sunflower_HarvestedAreaHectares.tif\n",
      "155 C:\\Research\\Post-Doc Research\\HarvestedAreaYield\\HarvestedAreaYield175Crops_Geotiff\\HarvestedAreaYield175Crops_Geotiff\\swedefor_HarvAreaYield_Geotiff\\swedefor_HarvestedAreaHectares.tif\n",
      "156 C:\\Research\\Post-Doc Research\\HarvestedAreaYield\\HarvestedAreaYield175Crops_Geotiff\\HarvestedAreaYield175Crops_Geotiff\\sweetpotato_HarvAreaYield_Geotiff\\sweetpotato_HarvestedAreaHectares.tif\n",
      "157 C:\\Research\\Post-Doc Research\\HarvestedAreaYield\\HarvestedAreaYield175Crops_Geotiff\\HarvestedAreaYield175Crops_Geotiff\\tangetc_HarvAreaYield_Geotiff\\tangetc_HarvestedAreaHectares.tif\n",
      "158 C:\\Research\\Post-Doc Research\\HarvestedAreaYield\\HarvestedAreaYield175Crops_Geotiff\\HarvestedAreaYield175Crops_Geotiff\\taro_HarvAreaYield_Geotiff\\taro_HarvestedAreaHectares.tif\n",
      "159 C:\\Research\\Post-Doc Research\\HarvestedAreaYield\\HarvestedAreaYield175Crops_Geotiff\\HarvestedAreaYield175Crops_Geotiff\\tea_HarvAreaYield_Geotiff\\tea_HarvestedAreaHectares.tif\n",
      "160 C:\\Research\\Post-Doc Research\\HarvestedAreaYield\\HarvestedAreaYield175Crops_Geotiff\\HarvestedAreaYield175Crops_Geotiff\\tobacco_HarvAreaYield_Geotiff\\tobacco_HarvestedAreaHectares.tif\n",
      "161 C:\\Research\\Post-Doc Research\\HarvestedAreaYield\\HarvestedAreaYield175Crops_Geotiff\\HarvestedAreaYield175Crops_Geotiff\\tomato_HarvAreaYield_Geotiff\\tomato_HarvestedAreaHectares.tif\n",
      "162 C:\\Research\\Post-Doc Research\\HarvestedAreaYield\\HarvestedAreaYield175Crops_Geotiff\\HarvestedAreaYield175Crops_Geotiff\\triticale_HarvAreaYield_Geotiff\\triticale_HarvestedAreaHectares.tif\n",
      "163 C:\\Research\\Post-Doc Research\\HarvestedAreaYield\\HarvestedAreaYield175Crops_Geotiff\\HarvestedAreaYield175Crops_Geotiff\\tropicalnes_HarvAreaYield_Geotiff\\tropicalnes_HarvestedAreaHectares.tif\n",
      "164 C:\\Research\\Post-Doc Research\\HarvestedAreaYield\\HarvestedAreaYield175Crops_Geotiff\\HarvestedAreaYield175Crops_Geotiff\\tung_HarvAreaYield_Geotiff\\tung_HarvestedAreaHectares.tif\n",
      "165 C:\\Research\\Post-Doc Research\\HarvestedAreaYield\\HarvestedAreaYield175Crops_Geotiff\\HarvestedAreaYield175Crops_Geotiff\\turnipfor_HarvAreaYield_Geotiff\\turnipfor_HarvestedAreaHectares.tif\n",
      "166 C:\\Research\\Post-Doc Research\\HarvestedAreaYield\\HarvestedAreaYield175Crops_Geotiff\\HarvestedAreaYield175Crops_Geotiff\\vanilla_HarvAreaYield_Geotiff\\vanilla_HarvestedAreaHectares.tif\n",
      "167 C:\\Research\\Post-Doc Research\\HarvestedAreaYield\\HarvestedAreaYield175Crops_Geotiff\\HarvestedAreaYield175Crops_Geotiff\\vegetablenes_HarvAreaYield_Geotiff\\vegetablenes_HarvestedAreaHectares.tif\n",
      "168 C:\\Research\\Post-Doc Research\\HarvestedAreaYield\\HarvestedAreaYield175Crops_Geotiff\\HarvestedAreaYield175Crops_Geotiff\\vegfor_HarvAreaYield_Geotiff\\vegfor_HarvestedAreaHectares.tif\n",
      "169 C:\\Research\\Post-Doc Research\\HarvestedAreaYield\\HarvestedAreaYield175Crops_Geotiff\\HarvestedAreaYield175Crops_Geotiff\\vetch_HarvAreaYield_Geotiff\\vetch_HarvestedAreaHectares.tif\n",
      "170 C:\\Research\\Post-Doc Research\\HarvestedAreaYield\\HarvestedAreaYield175Crops_Geotiff\\HarvestedAreaYield175Crops_Geotiff\\walnut_HarvAreaYield_Geotiff\\walnut_HarvestedAreaHectares.tif\n",
      "171 C:\\Research\\Post-Doc Research\\HarvestedAreaYield\\HarvestedAreaYield175Crops_Geotiff\\HarvestedAreaYield175Crops_Geotiff\\watermelon_HarvAreaYield_Geotiff\\watermelon_HarvestedAreaHectares.tif\n",
      "172 C:\\Research\\Post-Doc Research\\HarvestedAreaYield\\HarvestedAreaYield175Crops_Geotiff\\HarvestedAreaYield175Crops_Geotiff\\wheat_HarvAreaYield_Geotiff\\wheat_HarvestedAreaHectares.tif\n",
      "173 C:\\Research\\Post-Doc Research\\HarvestedAreaYield\\HarvestedAreaYield175Crops_Geotiff\\HarvestedAreaYield175Crops_Geotiff\\yam_HarvAreaYield_Geotiff\\yam_HarvestedAreaHectares.tif\n",
      "174 C:\\Research\\Post-Doc Research\\HarvestedAreaYield\\HarvestedAreaYield175Crops_Geotiff\\HarvestedAreaYield175Crops_Geotiff\\yautia_HarvAreaYield_Geotiff\\yautia_HarvestedAreaHectares.tif\n"
     ]
    }
   ],
   "source": [
    "# load the original image\n",
    "for f in range(nf):\n",
    "    file = tifFile[f]\n",
    "    print(f,file)\n",
    "    tifx = tif.imread(file)\n",
    "    tifary = np.array(tifx)\n",
    "    for i in range(360):\n",
    "        for j in range(720):\n",
    "            crpary[i,j,f] = tifary[i*6+1:i*6+6,j*6+1:j*6+6].sum()"
   ]
  },
  {
   "cell_type": "code",
   "execution_count": 16,
   "metadata": {},
   "outputs": [],
   "source": [
    "import scipy.io"
   ]
  },
  {
   "cell_type": "code",
   "execution_count": 17,
   "metadata": {},
   "outputs": [],
   "source": [
    "scipy.io.savemat('earthstats_area_ha_2000_30mins.mat', mdict={'crpary': crpary})"
   ]
  },
  {
   "cell_type": "code",
   "execution_count": null,
   "metadata": {},
   "outputs": [],
   "source": []
  }
 ],
 "metadata": {
  "kernelspec": {
   "display_name": "Python 3",
   "language": "python",
   "name": "python3"
  },
  "language_info": {
   "codemirror_mode": {
    "name": "ipython",
    "version": 3
   },
   "file_extension": ".py",
   "mimetype": "text/x-python",
   "name": "python",
   "nbconvert_exporter": "python",
   "pygments_lexer": "ipython3",
   "version": "3.7.6"
  }
 },
 "nbformat": 4,
 "nbformat_minor": 2
}
